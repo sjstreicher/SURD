{
 "cells": [
  {
   "cell_type": "code",
   "execution_count": 1,
   "metadata": {},
   "outputs": [],
   "source": [
    "import numpy as np\n",
    "import matplotlib.pyplot as plt\n",
    "\n",
    "from surd import surd\n",
    "\n",
    "np.random.seed(10)\n",
    "\n",
    "# Configure matplotlib to use LaTeX for text rendering and set font size\n",
    "plt.rcParams[\"text.usetex\"] = True\n",
    "plt.rcParams.update({\"font.size\": 22})"
   ]
  },
  {
   "cell_type": "code",
   "execution_count": 2,
   "metadata": {},
   "outputs": [],
   "source": [
    "def create_pfm(s, a, dt, bins):\n",
    "    \"\"\"compute the joint PMF of variables\n",
    "\n",
    "        pfm = create_pfm( s, a, dt )\n",
    "    Parameters\n",
    "        s:      [np.ndarray]\n",
    "            temporal evolution of target variable [size (Nt,)]\n",
    "        a:      [ tuple ]\n",
    "            each element must be an np.ndarray of size (Nt,)\n",
    "            with the temporal evolution of agent variables\n",
    "        dt:     [int]\n",
    "            time lag in number of time steps\n",
    "        bins:     [int]\n",
    "            number of bins (states) per dimension\n",
    "    Returns\n",
    "        pfm     [np.ndarray]\n",
    "            Mass probability function ( size ( bins, ..., bins ), dim = 1 + len(a) )\n",
    "\n",
    "    \"\"\"\n",
    "    V = np.vstack([s[dt:], [a[i][:-dt] for i in range(len(a))]]).T\n",
    "\n",
    "    # Histogram computes the bins by equally splitting the interval max(var)-min(var)\n",
    "    h, _ = np.histogramdd(V, bins=bins)\n",
    "    return h / h.sum()"
   ]
  },
  {
   "cell_type": "code",
   "execution_count": 3,
   "metadata": {},
   "outputs": [],
   "source": [
    "nsamples = int(1e7)\n",
    "dt = 1\n",
    "nbins = 2\n",
    "\n",
    "q1 = np.random.rand(nsamples).round().astype(int)\n",
    "q2 = np.random.rand(nsamples).round().astype(int)"
   ]
  },
  {
   "cell_type": "code",
   "execution_count": null,
   "metadata": {},
   "outputs": [],
   "source": [
    "# Example 1: Duplicated input\n",
    "target = np.roll(q1, dt)\n",
    "agents = (q1, q1)\n",
    "nvars = 2\n",
    "\n",
    "hist = create_pfm(target, agents, dt, nbins)\n",
    "Rd, Sy, MI, info_leak = surd.surd(hist)\n",
    "surd.nice_print(Rd, Sy, MI, info_leak)\n",
    "\n",
    "# Plot results\n",
    "fig, axs = plt.subplots(1, 2, figsize=(9, 2.3), gridspec_kw={\"width_ratios\": [50, 1]})\n",
    "surd.plot(Rd, Sy, info_leak, axs, nvars, threshold=-0.01)\n",
    "axs[0].set_title(\n",
    "    f\"${{\\\\Delta I}}_{{(\\\\cdot) \\\\rightarrow {3}}} / I \\\\left(Q_{3}^+ ; \\\\mathrm{{\\\\mathbf{{Q}}}} \\\\right)$\",\n",
    "    pad=12,\n",
    ")\n",
    "axs[1].set_title(\n",
    "    f\"$\\\\frac{{{{\\\\Delta I}}_{{\\\\mathrm{{leak}} \\\\rightarrow {3}}}}}{{H \\\\left(Q_{3} \\\\right)}}$\",\n",
    "    pad=20,\n",
    ")\n",
    "plt.tight_layout(w_pad=-13, h_pad=0)\n",
    "plt.show()"
   ]
  },
  {
   "cell_type": "code",
   "execution_count": null,
   "metadata": {},
   "outputs": [],
   "source": [
    "# Example 2: Duplicated input\n",
    "target = np.roll(q1, dt)\n",
    "agents = (q1, q2)\n",
    "nvars = 2\n",
    "\n",
    "# Prepare Subplots\n",
    "hist = create_pfm(target, agents, dt, nbins)\n",
    "Rd, Sy, MI, info_leak = surd.surd(hist)\n",
    "surd.nice_print(Rd, Sy, MI, info_leak)\n",
    "\n",
    "# Plot results\n",
    "fig, axs = plt.subplots(1, 2, figsize=(9, 2.3), gridspec_kw={\"width_ratios\": [50, 1]})\n",
    "surd.plot(Rd, Sy, info_leak, axs, nvars, threshold=-0.01)\n",
    "axs[0].set_title(\n",
    "    f\"${{\\\\Delta I}}_{{(\\\\cdot) \\\\rightarrow {3}}} / I \\\\left(Q_{3}^+ ; \\\\mathrm{{\\\\mathbf{{Q}}}} \\\\right)$\",\n",
    "    pad=12,\n",
    ")\n",
    "axs[1].set_title(\n",
    "    f\"$\\\\frac{{{{\\\\Delta I}}_{{\\\\mathrm{{leak}} \\\\rightarrow {3}}}}}{{H \\\\left(Q_{3} \\\\right)}}$\",\n",
    "    pad=20,\n",
    ")\n",
    "plt.tight_layout(w_pad=-13, h_pad=0)\n",
    "plt.show()"
   ]
  },
  {
   "cell_type": "code",
   "execution_count": null,
   "metadata": {},
   "outputs": [],
   "source": [
    "# Example 3: Exclusive XOR\n",
    "target = np.roll(q1 ^ q2, dt)\n",
    "agents = (q1, q2)\n",
    "\n",
    "# Prepare Subplots\n",
    "hist = create_pfm(target, agents, dt, nbins + 1)\n",
    "Rd, Sy, MI, info_leak = surd.surd(hist)\n",
    "surd.nice_print(Rd, Sy, MI, info_leak)\n",
    "\n",
    "# Plot results\n",
    "fig, axs = plt.subplots(1, 2, figsize=(9, 2.3), gridspec_kw={\"width_ratios\": [50, 1]})\n",
    "surd.plot(Rd, Sy, info_leak, axs, nvars, threshold=-0.01)\n",
    "axs[0].set_title(\n",
    "    f\"${{\\\\Delta I}}_{{(\\\\cdot) \\\\rightarrow {3}}} / I \\\\left(Q_{3}^+ ; \\\\mathrm{{\\\\mathbf{{Q}}}} \\\\right)$\",\n",
    "    pad=12,\n",
    ")\n",
    "axs[1].set_title(\n",
    "    f\"$\\\\frac{{{{\\\\Delta I}}_{{\\\\mathrm{{leak}} \\\\rightarrow {3}}}}}{{H \\\\left(Q_{3} \\\\right)}}$\",\n",
    "    pad=20,\n",
    ")\n",
    "plt.tight_layout(w_pad=-13, h_pad=0)\n",
    "plt.show()"
   ]
  }
 ],
 "metadata": {
  "kernelspec": {
   "display_name": ".venv",
   "language": "python",
   "name": "python3"
  },
  "language_info": {
   "codemirror_mode": {
    "name": "ipython",
    "version": 3
   },
   "file_extension": ".py",
   "mimetype": "text/x-python",
   "name": "python",
   "nbconvert_exporter": "python",
   "pygments_lexer": "ipython3",
   "version": "3.12.4"
  }
 },
 "nbformat": 4,
 "nbformat_minor": 2
}
